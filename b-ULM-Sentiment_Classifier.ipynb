{
 "cells": [
  {
   "cell_type": "markdown",
   "metadata": {},
   "source": [
    "# ULM Sentiment Classifier"
   ]
  },
  {
   "cell_type": "code",
   "execution_count": 1,
   "metadata": {},
   "outputs": [
    {
     "name": "stdout",
     "output_type": "stream",
     "text": [
      "0.3.1.post2\n",
      "1.15.1\n"
     ]
    }
   ],
   "source": [
    "from fastai.text import *\n",
    "import html\n",
    "print(torch.__version__)\n",
    "print(np.__version__)\n",
    "# torch version should be pre 1.0 for compatibility with Fastai 0.7\n",
    "# np version should be 1.15 for compatibility with Fastai 0.7\n",
    "\n",
    "%run -i ./code/sentiment_imdb_helpers.py\n"
   ]
  },
  {
   "cell_type": "code",
   "execution_count": 2,
   "metadata": {},
   "outputs": [],
   "source": [
    "\n",
    "PATH=Path('data/aclImdb/')\n",
    "# in NLP you will see LM (Language Model) path by convention\n",
    "LM_PATH=Path('data/imdb_lm/')\n",
    "LM_PATH.mkdir(exist_ok=True)\n",
    "# Clas Path and Col Names\n",
    "CLAS_PATH=Path('data/imdb_clas/')\n",
    "CLAS_PATH.mkdir(exist_ok=True)\n",
    "chunksize=24000\n",
    "col_names = ['labels','text']\n"
   ]
  },
  {
   "cell_type": "markdown",
   "metadata": {},
   "source": [
    "#### Read in and prepare data"
   ]
  },
  {
   "cell_type": "code",
   "execution_count": 3,
   "metadata": {},
   "outputs": [
    {
     "name": "stdout",
     "output_type": "stream",
     "text": [
      "0\n",
      "1\n",
      "0\n",
      "1\n",
      "vocabulary length 60002\n",
      "trn_labels.shape (25000,)\n"
     ]
    }
   ],
   "source": [
    "# Load Data\n",
    "\n",
    "#uncomment the nextlines only the first time to load imdb data and create dataframes\n",
    "#%run -i ./code/sentiment_imdb_load_createdf.py\n",
    "df_trn = pd.read_csv(CLAS_PATH/'train.csv', header=None, chunksize=chunksize)\n",
    "df_val = pd.read_csv(CLAS_PATH/'test.csv', header=None, chunksize=chunksize)\n",
    "\n",
    "# Tokenize\n",
    "tok_trn, trn_labels = get_all(df_trn, 1)\n",
    "tok_val, val_labels = get_all(df_val, 1)\n",
    "\n",
    "# Load Vocabulary\n",
    "itos = pickle.load((LM_PATH/'tmp'/'itos.pkl').open('rb'))\n",
    "stoi = collections.defaultdict(lambda:0, {v:k for k,v in enumerate(itos)})\n",
    "print('vocabulary length',len(itos))\n",
    "\n",
    "trn_clas = np.array([[stoi[o] for o in p] for p in tok_trn])\n",
    "val_clas = np.array([[stoi[o] for o in p] for p in tok_val])\n",
    "trn_labels = np.squeeze(trn_labels)\n",
    "val_labels = np.squeeze(val_labels)\n",
    "print('trn_labels.shape', trn_labels.shape)"
   ]
  },
  {
   "cell_type": "markdown",
   "metadata": {},
   "source": [
    "#### Define Classifier"
   ]
  },
  {
   "cell_type": "code",
   "execution_count": 5,
   "metadata": {},
   "outputs": [
    {
     "name": "stdout",
     "output_type": "stream",
     "text": [
      "48 70\n"
     ]
    }
   ],
   "source": [
    "bptt,em_sz,nh,nl = 70,400,1150,3\n",
    "vs = len(itos)\n",
    "#opt_fn = partial(optim.Adam, betas=(0.8, 0.99))\n",
    "bs = 48 # originally bs of 48 ... reduce to 42 for memory purposes\n",
    "\n",
    "md = make_ModelDataLoader(trn_clas, trn_labels, val_clas, val_labels, bs)\n",
    "\n",
    "print(bs, bptt)\n",
    "\n",
    "dps = np.array([0.4,0.5,0.05,0.3,0.4])*0.5\n",
    "# change 20*70 to 10*70 ... running out of memory with 20 * 70 ... see notes/comments below\n",
    "\n",
    "c=int(trn_labels.max())+1\n",
    "m = get_rnn_classifer(bptt, 10*70, c, vs, emb_sz=em_sz, n_hid=nh, \n",
    "                      n_layers=nl, pad_token=1,\n",
    "                      layers=[em_sz*3, 50, c], drops=[dps[4], 0.1],\n",
    "                      dropouti=dps[0], wdrop=dps[1],        \n",
    "                      dropoute=dps[2], dropouth=dps[3])\n",
    "opt_fn = partial(optim.Adam, betas=(0.7, 0.99))\n",
    "\n",
    "\n",
    "#learn = RNN_Learner(md, TextModel(to_gpu(m)), opt_fn=opt_fn)\n",
    "learn = RNN_Learner(md, TextModel(to_gpu(m)), opt_fn=partial(optim.Adam, betas=(0.7, 0.99)))\n",
    "learn.reg_fn = partial(seq2seq_reg, alpha=2, beta=1)\n",
    "learn.clip=25.\n",
    "learn.metrics = [accuracy]\n"
   ]
  },
  {
   "cell_type": "markdown",
   "metadata": {},
   "source": [
    "#### Learn"
   ]
  },
  {
   "cell_type": "code",
   "execution_count": 10,
   "metadata": {},
   "outputs": [],
   "source": [
    "\n",
    "lr=3e-3\n",
    "wd = 0\n",
    "lrs=np.array([1e-4,1e-4,1e-4,1e-3,1e-2])\n",
    "\n",
    "# load language model\n",
    "learn.load_encoder('lm1_enc')  # this model is saved under PATH/models/lm1_enc\n"
   ]
  },
  {
   "cell_type": "code",
   "execution_count": 11,
   "metadata": {},
   "outputs": [
    {
     "data": {
      "application/vnd.jupyter.widget-view+json": {
       "model_id": "a09c782157154552943ddf053c5c0209",
       "version_major": 2,
       "version_minor": 0
      },
      "text/plain": [
       "HBox(children=(IntProgress(value=0, description='Epoch', max=1, style=ProgressStyle(description_width='initial…"
      ]
     },
     "metadata": {},
     "output_type": "display_data"
    },
    {
     "name": "stdout",
     "output_type": "stream",
     "text": [
      "epoch      trn_loss   val_loss   accuracy                      \n",
      "    0      0.278688   0.179933   0.93148   \n",
      "\n"
     ]
    },
    {
     "data": {
      "text/plain": [
       "[array([0.17993]), 0.9314800004959106]"
      ]
     },
     "execution_count": 11,
     "metadata": {},
     "output_type": "execute_result"
    }
   ],
   "source": [
    "\n",
    "learn.freeze_to(-1)\n",
    "learn.fit(lrs, 1, wds=wd, cycle_len=1, use_clr=(8,3))\n",
    "\n",
    "# bs 48, bptt = 70\n",
    "#epoch      trn_loss   val_loss   accuracy                      \n",
    "#    0      0.278688   0.179933   0.93148   "
   ]
  },
  {
   "cell_type": "code",
   "execution_count": 12,
   "metadata": {},
   "outputs": [],
   "source": [
    "learn.save('clas_0')\n"
   ]
  },
  {
   "cell_type": "code",
   "execution_count": 13,
   "metadata": {},
   "outputs": [],
   "source": [
    "learn.load('clas_0')"
   ]
  },
  {
   "cell_type": "code",
   "execution_count": 14,
   "metadata": {},
   "outputs": [
    {
     "data": {
      "application/vnd.jupyter.widget-view+json": {
       "model_id": "7d8a7c59217c49e6a955c30fff5a31f2",
       "version_major": 2,
       "version_minor": 0
      },
      "text/plain": [
       "HBox(children=(IntProgress(value=0, description='Epoch', max=1, style=ProgressStyle(description_width='initial…"
      ]
     },
     "metadata": {},
     "output_type": "display_data"
    },
    {
     "name": "stdout",
     "output_type": "stream",
     "text": [
      "epoch      trn_loss   val_loss   accuracy                      \n",
      "    0      0.230364   0.164364   0.93696   \n",
      "\n"
     ]
    },
    {
     "data": {
      "text/plain": [
       "[array([0.16436]), 0.9369600005340576]"
      ]
     },
     "execution_count": 14,
     "metadata": {},
     "output_type": "execute_result"
    }
   ],
   "source": [
    "learn.freeze_to(-2)\n",
    "learn.fit(lrs, 1, wds=wd, cycle_len=1, use_clr=(8,3))\n",
    "\n",
    "# bs = 48, bptt = 70\n",
    "#epoch      trn_loss   val_loss   accuracy                      \n",
    "#    0      0.230364   0.164364   0.93696   \n",
    "    \n",
    "# bs = 40, bptt = 70\n",
    "#epoch      trn_loss   val_loss   accuracy                      \n",
    "#    0      0.340473   0.17319    0.933125\n",
    "#[0.17319041, 0.9331253991245995]"
   ]
  },
  {
   "cell_type": "code",
   "execution_count": 15,
   "metadata": {},
   "outputs": [],
   "source": [
    "learn.save('clas_1')\n"
   ]
  },
  {
   "cell_type": "code",
   "execution_count": 16,
   "metadata": {},
   "outputs": [],
   "source": [
    "learn.load('clas_1')"
   ]
  },
  {
   "cell_type": "code",
   "execution_count": 17,
   "metadata": {},
   "outputs": [
    {
     "data": {
      "application/vnd.jupyter.widget-view+json": {
       "model_id": "9010f9385f99473aa261534ec96898e1",
       "version_major": 2,
       "version_minor": 0
      },
      "text/plain": [
       "HBox(children=(IntProgress(value=0, description='Epoch', max=14, style=ProgressStyle(description_width='initia…"
      ]
     },
     "metadata": {},
     "output_type": "display_data"
    },
    {
     "name": "stdout",
     "output_type": "stream",
     "text": [
      "epoch      trn_loss   val_loss   accuracy                      \n",
      "    0      0.205568   0.158957   0.94092   \n",
      "    1      0.206695   0.161946   0.94032                       \n",
      " 67%|██████▋   | 703/1042 [12:30<08:05,  1.43s/it, loss=0.181]"
     ]
    },
    {
     "name": "stderr",
     "output_type": "stream",
     "text": [
      "IOPub message rate exceeded.\n",
      "The notebook server will temporarily stop sending output\n",
      "to the client in order to avoid crashing it.\n",
      "To change this limit, set the config variable\n",
      "`--NotebookApp.iopub_msg_rate_limit`.\n",
      "\n",
      "Current values:\n",
      "NotebookApp.iopub_msg_rate_limit=1000.0 (msgs/sec)\n",
      "NotebookApp.rate_limit_window=3.0 (secs)\n",
      "\n"
     ]
    },
    {
     "name": "stdout",
     "output_type": "stream",
     "text": [
      "    5      0.118354   0.160345   0.94368                        \n",
      "    6      0.095922   0.183031   0.94532                        \n",
      "    7      0.069187   0.85192    0.94112                        \n",
      " 19%|█▉        | 196/1042 [03:19<18:09,  1.29s/it, loss=0.0656]"
     ]
    },
    {
     "name": "stderr",
     "output_type": "stream",
     "text": [
      "IOPub message rate exceeded.\n",
      "The notebook server will temporarily stop sending output\n",
      "to the client in order to avoid crashing it.\n",
      "To change this limit, set the config variable\n",
      "`--NotebookApp.iopub_msg_rate_limit`.\n",
      "\n",
      "Current values:\n",
      "NotebookApp.iopub_msg_rate_limit=1000.0 (msgs/sec)\n",
      "NotebookApp.rate_limit_window=3.0 (secs)\n",
      "\n"
     ]
    },
    {
     "name": "stdout",
     "output_type": "stream",
     "text": [
      "    12     0.029799   0.255404   0.94524                        \n",
      "    13     0.030276   0.246786   0.94448                        \n",
      "\n"
     ]
    },
    {
     "data": {
      "text/plain": [
       "[array([0.24679]), 0.9444799982643127]"
      ]
     },
     "execution_count": 17,
     "metadata": {},
     "output_type": "execute_result"
    }
   ],
   "source": [
    "learn.unfreeze()\n",
    "learn.fit(lrs, 1, wds=wd, cycle_len=14, use_clr=(32,10))\n",
    "\n",
    "# bs = 48, bptt = 70, 10*70\n",
    "#epoch      trn_loss   val_loss   accuracy                      \n",
    "#    0      0.205568   0.158957   0.94092   \n",
    "#    1      0.206695   0.161946   0.94032 \n",
    "#    5      0.118354   0.160345   0.94368                        \n",
    "#    6      0.095922   0.183031   0.94532                        \n",
    "#    7      0.069187   0.85192    0.94112 \n",
    "#   12     0.029799   0.255404    0.94524                        \n",
    "#    13     0.030276   0.246786   0.94448 \n",
    "\n",
    "# bs = 48, bptt = 70, 20*70\n",
    "#epoch      trn_loss   val_loss   accuracy                      \n",
    "#    0      0.337347   0.186812   0.930782  \n",
    "#    1      0.284065   0.318038   0.932062                      \n",
    "#    2      0.246721   0.156018   0.941747                      \n",
    "#    3      0.252745   0.157223   0.944106                      \n",
    "#    4      0.24023    0.159444   0.945393                      \n",
    "#    5      0.210046   0.202856   0.942858                      \n",
    "#    6      0.212139   0.149009   0.943746                      \n",
    "#    7      0.21163    0.186739   0.946553                      \n",
    "#    8      0.186233   0.1508     0.945218                      \n",
    "#    9      0.176225   0.150472   0.947985                      \n",
    "#    10     0.198024   0.146215   0.948345                      \n",
    "#    11     0.20324    0.189206   0.948145                      \n",
    "#    12     0.165159   0.151402   0.947745                      \n",
    "#    13     0.165997   0.146615   0.947905"
   ]
  },
  {
   "cell_type": "code",
   "execution_count": 18,
   "metadata": {},
   "outputs": [
    {
     "data": {
      "image/png": "[encoded data removed]",
      "text/plain": [
       "<Figure size 432x288 with 1 Axes>"
      ]
     },
     "metadata": {
      "needs_background": "light"
     },
     "output_type": "display_data"
    }
   ],
   "source": [
    "learn.sched.plot_loss()\n",
    "learn.save('clas_2')"
   ]
  }
 ],
 "metadata": {
  "kernelspec": {
   "display_name": "Python 3",
   "language": "python",
   "name": "python3"
  },
  "language_info": {
   "codemirror_mode": {
    "name": "ipython",
    "version": 3
   },
   "file_extension": ".py",
   "mimetype": "text/x-python",
   "name": "python",
   "nbconvert_exporter": "python",
   "pygments_lexer": "ipython3",
   "version": "3.6.8"
  }
 },
 "nbformat": 4,
 "nbformat_minor": 2
}
